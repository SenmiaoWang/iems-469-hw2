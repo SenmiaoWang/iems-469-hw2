{
 "cells": [
  {
   "cell_type": "code",
   "execution_count": 31,
   "metadata": {},
   "outputs": [],
   "source": [
    "import gym\n",
    "import torch\n",
    "from torch import nn\n",
    "import torch.nn.functional as F\n",
    "import numpy as np\n",
    "import matplotlib.pyplot as plt\n",
    "from tqdm import tqdm\n",
    "import pyglet\n",
    "from itertools import count\n",
    "import math\n",
    "import random\n",
    "from PIL import Image\n",
    "from torch.distributions import Categorical\n",
    "from gym import ObservationWrapper\n",
    "from gym import ActionWrapper\n",
    "import os"
   ]
  },
  {
   "cell_type": "code",
   "execution_count": 32,
   "metadata": {},
   "outputs": [],
   "source": [
    "os.environ[\"CUDA_VISIBLE_DEVICES\"] = \"1\""
   ]
  },
  {
   "cell_type": "code",
   "execution_count": 33,
   "metadata": {},
   "outputs": [],
   "source": [
    "class PongObsWrapper(ObservationWrapper):\n",
    "    def __init__(self, env):\n",
    "        super().__init__(env)\n",
    "        \n",
    "    def observation(self, image):\n",
    "        image = image[35:195] # crop\n",
    "        image = image[::2,::2,0] # downsample by factor of 2\n",
    "        image[image == 144] = 0 # erase background (background type 1)\n",
    "        image[image == 109] = 0 # erase background (background type 2)\n",
    "        image[image != 0] = 1 # everything else (paddles, ball) just set to 1\n",
    "        return np.reshape(image.astype(np.float32).ravel(), [1, 80,80])\n",
    "    \n",
    "class PongActionWrapper(ActionWrapper):\n",
    "    def __init__(self, env):\n",
    "        super().__init__(env)\n",
    "        self.action_ = {0: 2, 1: 3}\n",
    "    \n",
    "    def action(self, action):\n",
    "        return self.action_[action]"
   ]
  },
  {
   "cell_type": "code",
   "execution_count": 34,
   "metadata": {},
   "outputs": [],
   "source": [
    "class net(nn.Module):\n",
    "    def __init__(self, input_dim, output_dim):\n",
    "        super(net, self).__init__()\n",
    "        self.conv1 = nn.Sequential(\n",
    "            nn.Conv2d(in_channels=input_dim[0], out_channels=6, kernel_size=3, stride=1, padding=1),\n",
    "            nn.ReLU(True),\n",
    "            nn.MaxPool2d(2,2),\n",
    "            nn.Conv2d(6,16,5,1,2),\n",
    "            nn.ReLU(True),\n",
    "            nn.MaxPool2d(4,2),   # 16 10 10\n",
    "            nn.Flatten()    # 16*10*10\n",
    "        )\n",
    "        \n",
    "        with torch.no_grad():\n",
    "            latent_dim = np.prod(self.conv1(torch.zeros(1, *input_dim)).shape[1:])\n",
    "        \n",
    "        self.fc = nn.Sequential(\n",
    "            self.conv1,\n",
    "            nn.Linear(latent_dim, 256),\n",
    "            nn.ReLU(True),\n",
    "            nn.Linear(256, output_dim)\n",
    "        )\n",
    "\n",
    "    def forward(self, x):\n",
    "        out = self.fc(x.float())\n",
    "        return out"
   ]
  },
  {
   "cell_type": "code",
   "execution_count": 35,
   "metadata": {},
   "outputs": [],
   "source": [
    "env = PongActionWrapper(PongObsWrapper(gym.make('Pong-v0')))\n",
    "a_d = 2\n",
    "gamma = 0.99\n",
    "device = torch.device(\"cuda\") if torch.cuda.is_available() else torch.device(\"cpu\")\n",
    "a_lr = 1e-2\n",
    "c_lr = 1e-1\n",
    "input_dim = (1,80,80)\n",
    "num_episodes = 10000\n",
    "batchsize = 10\n",
    "num_batch = int(num_episodes/batchsize)"
   ]
  },
  {
   "cell_type": "code",
   "execution_count": 36,
   "metadata": {
    "scrolled": true
   },
   "outputs": [],
   "source": [
    "class a2c:\n",
    "    def __init__(self, input_dim, a_d, gamma, a_lr, c_lr, device):\n",
    "        self.actor = net(input_dim, a_d).to(device)\n",
    "        self.critic = net(input_dim, 1).to(device)\n",
    "        self.actor_optim = torch.optim.Adam(self.actor.parameters(), lr = a_lr)\n",
    "        self.critic_optim = torch.optim.Adam(self.critic.parameters(), lr = c_lr)\n",
    "        self.gamma = gamma\n",
    "    \n",
    "    def forward(self, s_input):\n",
    "        return Categorical(torch.softmax(self.actor(s_input), -1))\n",
    "    \n",
    "    def act(self, s):\n",
    "        sts = torch.tensor(s, dtype = torch.float).to(device)\n",
    "        s_input = sts.unsqueeze(0)\n",
    "        a = self.forward(s_input).sample().item()\n",
    "        return a\n",
    "    \n",
    "    def l2t(self, List):  # list-to-tensor function, delete the last entry\n",
    "        if len(List) > 0:\n",
    "            return torch.tensor(List[0:-1], dtype = torch.float)\n",
    "\n",
    "    def upd(self, traj):\n",
    "        s_tensor = torch.tensor(traj['s'], dtype = torch.float).to(device)\n",
    "        a_tensor = torch.tensor(traj['a'], dtype = torch.int64).view(-1,1).to(device)\n",
    "        s__tensor = torch.tensor(traj['s_'], dtype = torch.float).to(device)\n",
    "        r_tensor = torch.tensor(traj['r'], dtype = torch.float).view(-1,1).to(device)\n",
    "        dones_tensor = torch.tensor(traj['dones'], dtype = torch.float).view(-1,1).to(device)\n",
    "        \n",
    "        td_stp1 = r_tensor + self.gamma * (1-dones_tensor)*self.critic(s__tensor).float()\n",
    "        td_err = td_stp1 - self.critic(s_tensor).float()\n",
    "        a_loss = -torch.mean(torch.log(self.actor(s_tensor)).gather(1,a_tensor) * td_err.detach()).float()\n",
    "        c_loss = F.mse_loss(td_stp1.detach(), self.critic(s_tensor)).float()\n",
    "        self.actor_optim.zero_grad()\n",
    "        self.critic_optim.zero_grad()\n",
    "        a_loss.backward()\n",
    "        c_loss.backward()\n",
    "        self.actor_optim.step()\n",
    "        self.critic_optim.step()"
   ]
  },
  {
   "cell_type": "code",
   "execution_count": 37,
   "metadata": {},
   "outputs": [],
   "source": [
    "agent = a2c(input_dim, a_d, gamma, a_lr, c_lr, device)\n",
    "return_list = []"
   ]
  },
  {
   "cell_type": "code",
   "execution_count": 38,
   "metadata": {},
   "outputs": [],
   "source": [
    "with open(\"pong_data.csv\", \"w\") as f:\n",
    "    f.write(\n",
    "            \"step, episode length, total return\\n\"\n",
    "        )"
   ]
  },
  {
   "cell_type": "code",
   "execution_count": 39,
   "metadata": {},
   "outputs": [
    {
     "name": "stderr",
     "output_type": "stream",
     "text": [
      "Iter 0: 100%|██████████| 10/10 [00:23<00:00,  2.36s/it, epis=10, mean return=-21.00000]\n",
      "Iter 1: 100%|██████████| 10/10 [00:23<00:00,  2.34s/it, epis=20, mean return=-21.00000]\n",
      "Iter 2: 100%|██████████| 10/10 [00:23<00:00,  2.33s/it, epis=30, mean return=-21.00000]\n",
      "Iter 3: 100%|██████████| 10/10 [00:23<00:00,  2.34s/it, epis=40, mean return=-21.00000]\n",
      "Iter 4: 100%|██████████| 10/10 [00:23<00:00,  2.32s/it, epis=50, mean return=-21.00000]\n",
      "Iter 5: 100%|██████████| 10/10 [00:23<00:00,  2.36s/it, epis=60, mean return=-21.00000]\n",
      "Iter 6: 100%|██████████| 10/10 [00:23<00:00,  2.34s/it, epis=70, mean return=-21.00000]\n",
      "Iter 7: 100%|██████████| 10/10 [00:23<00:00,  2.34s/it, epis=80, mean return=-21.00000]\n",
      "Iter 8: 100%|██████████| 10/10 [00:23<00:00,  2.36s/it, epis=90, mean return=-21.00000]\n",
      "Iter 9: 100%|██████████| 10/10 [00:23<00:00,  2.34s/it, epis=100, mean return=-21.00000]\n",
      "Iter 10: 100%|██████████| 10/10 [00:23<00:00,  2.34s/it, epis=110, mean return=-21.00000]\n",
      "Iter 11: 100%|██████████| 10/10 [00:23<00:00,  2.36s/it, epis=120, mean return=-21.00000]\n",
      "Iter 12: 100%|██████████| 10/10 [00:23<00:00,  2.34s/it, epis=130, mean return=-21.00000]\n",
      "Iter 13: 100%|██████████| 10/10 [00:23<00:00,  2.34s/it, epis=140, mean return=-21.00000]\n",
      "Iter 14: 100%|██████████| 10/10 [00:23<00:00,  2.34s/it, epis=150, mean return=-21.00000]\n",
      "Iter 15: 100%|██████████| 10/10 [00:23<00:00,  2.34s/it, epis=160, mean return=-21.00000]\n",
      "Iter 16: 100%|██████████| 10/10 [00:23<00:00,  2.32s/it, epis=170, mean return=-21.00000]\n",
      "Iter 17: 100%|██████████| 10/10 [00:23<00:00,  2.33s/it, epis=180, mean return=-21.00000]\n",
      "Iter 18: 100%|██████████| 10/10 [00:23<00:00,  2.34s/it, epis=190, mean return=-21.00000]\n",
      "Iter 19: 100%|██████████| 10/10 [00:23<00:00,  2.35s/it, epis=200, mean return=-21.00000]\n",
      "Iter 20: 100%|██████████| 10/10 [00:23<00:00,  2.35s/it, epis=210, mean return=-21.00000]\n",
      "Iter 21: 100%|██████████| 10/10 [00:23<00:00,  2.34s/it, epis=220, mean return=-21.00000]\n",
      "Iter 22: 100%|██████████| 10/10 [00:23<00:00,  2.34s/it, epis=230, mean return=-21.00000]\n",
      "Iter 23: 100%|██████████| 10/10 [00:23<00:00,  2.33s/it, epis=240, mean return=-21.00000]\n",
      "Iter 24: 100%|██████████| 10/10 [00:23<00:00,  2.33s/it, epis=250, mean return=-21.00000]\n",
      "Iter 25: 100%|██████████| 10/10 [00:23<00:00,  2.35s/it, epis=260, mean return=-21.00000]\n",
      "Iter 26: 100%|██████████| 10/10 [00:23<00:00,  2.33s/it, epis=270, mean return=-21.00000]\n",
      "Iter 27: 100%|██████████| 10/10 [00:23<00:00,  2.36s/it, epis=280, mean return=-21.00000]\n",
      "Iter 28:  40%|████      | 4/10 [00:10<00:16,  2.68s/it]\n"
     ]
    },
    {
     "ename": "KeyboardInterrupt",
     "evalue": "",
     "output_type": "error",
     "traceback": [
      "\u001b[0;31m---------------------------------------------------------------------------\u001b[0m",
      "\u001b[0;31mKeyboardInterrupt\u001b[0m                         Traceback (most recent call last)",
      "\u001b[0;32m<ipython-input-39-a950a43dc0ec>\u001b[0m in \u001b[0;36m<module>\u001b[0;34m\u001b[0m\n\u001b[1;32m      9\u001b[0m                 \u001b[0;31m# print(s)\u001b[0m\u001b[0;34m\u001b[0m\u001b[0;34m\u001b[0m\u001b[0;34m\u001b[0m\u001b[0m\n\u001b[1;32m     10\u001b[0m                 \u001b[0ma\u001b[0m \u001b[0;34m=\u001b[0m \u001b[0magent\u001b[0m\u001b[0;34m.\u001b[0m\u001b[0mact\u001b[0m\u001b[0;34m(\u001b[0m\u001b[0ms\u001b[0m\u001b[0;34m)\u001b[0m\u001b[0;34m\u001b[0m\u001b[0;34m\u001b[0m\u001b[0m\n\u001b[0;32m---> 11\u001b[0;31m                 \u001b[0ms_\u001b[0m\u001b[0;34m,\u001b[0m \u001b[0mr\u001b[0m\u001b[0;34m,\u001b[0m \u001b[0mdone\u001b[0m\u001b[0;34m,\u001b[0m \u001b[0m_\u001b[0m \u001b[0;34m=\u001b[0m \u001b[0menv\u001b[0m\u001b[0;34m.\u001b[0m\u001b[0mstep\u001b[0m\u001b[0;34m(\u001b[0m\u001b[0ma\u001b[0m\u001b[0;34m)\u001b[0m\u001b[0;34m\u001b[0m\u001b[0;34m\u001b[0m\u001b[0m\n\u001b[0m\u001b[1;32m     12\u001b[0m                 \u001b[0mtraj\u001b[0m\u001b[0;34m[\u001b[0m\u001b[0;34m's'\u001b[0m\u001b[0;34m]\u001b[0m\u001b[0;34m.\u001b[0m\u001b[0mappend\u001b[0m\u001b[0;34m(\u001b[0m\u001b[0ms\u001b[0m\u001b[0;34m)\u001b[0m\u001b[0;34m\u001b[0m\u001b[0;34m\u001b[0m\u001b[0m\n\u001b[1;32m     13\u001b[0m                 \u001b[0mtraj\u001b[0m\u001b[0;34m[\u001b[0m\u001b[0;34m'a'\u001b[0m\u001b[0;34m]\u001b[0m\u001b[0;34m.\u001b[0m\u001b[0mappend\u001b[0m\u001b[0;34m(\u001b[0m\u001b[0ma\u001b[0m\u001b[0;34m)\u001b[0m\u001b[0;34m\u001b[0m\u001b[0;34m\u001b[0m\u001b[0m\n",
      "\u001b[0;32m~/.local/lib/python3.8/site-packages/gym/core.py\u001b[0m in \u001b[0;36mstep\u001b[0;34m(self, action)\u001b[0m\n\u001b[1;32m    347\u001b[0m \u001b[0;34m\u001b[0m\u001b[0m\n\u001b[1;32m    348\u001b[0m     \u001b[0;32mdef\u001b[0m \u001b[0mstep\u001b[0m\u001b[0;34m(\u001b[0m\u001b[0mself\u001b[0m\u001b[0;34m,\u001b[0m \u001b[0maction\u001b[0m\u001b[0;34m)\u001b[0m\u001b[0;34m:\u001b[0m\u001b[0;34m\u001b[0m\u001b[0;34m\u001b[0m\u001b[0m\n\u001b[0;32m--> 349\u001b[0;31m         \u001b[0;32mreturn\u001b[0m \u001b[0mself\u001b[0m\u001b[0;34m.\u001b[0m\u001b[0menv\u001b[0m\u001b[0;34m.\u001b[0m\u001b[0mstep\u001b[0m\u001b[0;34m(\u001b[0m\u001b[0mself\u001b[0m\u001b[0;34m.\u001b[0m\u001b[0maction\u001b[0m\u001b[0;34m(\u001b[0m\u001b[0maction\u001b[0m\u001b[0;34m)\u001b[0m\u001b[0;34m)\u001b[0m\u001b[0;34m\u001b[0m\u001b[0;34m\u001b[0m\u001b[0m\n\u001b[0m\u001b[1;32m    350\u001b[0m \u001b[0;34m\u001b[0m\u001b[0m\n\u001b[1;32m    351\u001b[0m     \u001b[0;34m@\u001b[0m\u001b[0mabstractmethod\u001b[0m\u001b[0;34m\u001b[0m\u001b[0;34m\u001b[0m\u001b[0m\n",
      "\u001b[0;32m~/.local/lib/python3.8/site-packages/gym/core.py\u001b[0m in \u001b[0;36mstep\u001b[0;34m(self, action)\u001b[0m\n\u001b[1;32m    321\u001b[0m \u001b[0;34m\u001b[0m\u001b[0m\n\u001b[1;32m    322\u001b[0m     \u001b[0;32mdef\u001b[0m \u001b[0mstep\u001b[0m\u001b[0;34m(\u001b[0m\u001b[0mself\u001b[0m\u001b[0;34m,\u001b[0m \u001b[0maction\u001b[0m\u001b[0;34m)\u001b[0m\u001b[0;34m:\u001b[0m\u001b[0;34m\u001b[0m\u001b[0;34m\u001b[0m\u001b[0m\n\u001b[0;32m--> 323\u001b[0;31m         \u001b[0mobservation\u001b[0m\u001b[0;34m,\u001b[0m \u001b[0mreward\u001b[0m\u001b[0;34m,\u001b[0m \u001b[0mdone\u001b[0m\u001b[0;34m,\u001b[0m \u001b[0minfo\u001b[0m \u001b[0;34m=\u001b[0m \u001b[0mself\u001b[0m\u001b[0;34m.\u001b[0m\u001b[0menv\u001b[0m\u001b[0;34m.\u001b[0m\u001b[0mstep\u001b[0m\u001b[0;34m(\u001b[0m\u001b[0maction\u001b[0m\u001b[0;34m)\u001b[0m\u001b[0;34m\u001b[0m\u001b[0;34m\u001b[0m\u001b[0m\n\u001b[0m\u001b[1;32m    324\u001b[0m         \u001b[0;32mreturn\u001b[0m \u001b[0mself\u001b[0m\u001b[0;34m.\u001b[0m\u001b[0mobservation\u001b[0m\u001b[0;34m(\u001b[0m\u001b[0mobservation\u001b[0m\u001b[0;34m)\u001b[0m\u001b[0;34m,\u001b[0m \u001b[0mreward\u001b[0m\u001b[0;34m,\u001b[0m \u001b[0mdone\u001b[0m\u001b[0;34m,\u001b[0m \u001b[0minfo\u001b[0m\u001b[0;34m\u001b[0m\u001b[0;34m\u001b[0m\u001b[0m\n\u001b[1;32m    325\u001b[0m \u001b[0;34m\u001b[0m\u001b[0m\n",
      "\u001b[0;32m~/.local/lib/python3.8/site-packages/gym/wrappers/time_limit.py\u001b[0m in \u001b[0;36mstep\u001b[0;34m(self, action)\u001b[0m\n\u001b[1;32m     16\u001b[0m             \u001b[0mself\u001b[0m\u001b[0;34m.\u001b[0m\u001b[0m_elapsed_steps\u001b[0m \u001b[0;32mis\u001b[0m \u001b[0;32mnot\u001b[0m \u001b[0;32mNone\u001b[0m\u001b[0;34m\u001b[0m\u001b[0;34m\u001b[0m\u001b[0m\n\u001b[1;32m     17\u001b[0m         ), \"Cannot call env.step() before calling reset()\"\n\u001b[0;32m---> 18\u001b[0;31m         \u001b[0mobservation\u001b[0m\u001b[0;34m,\u001b[0m \u001b[0mreward\u001b[0m\u001b[0;34m,\u001b[0m \u001b[0mdone\u001b[0m\u001b[0;34m,\u001b[0m \u001b[0minfo\u001b[0m \u001b[0;34m=\u001b[0m \u001b[0mself\u001b[0m\u001b[0;34m.\u001b[0m\u001b[0menv\u001b[0m\u001b[0;34m.\u001b[0m\u001b[0mstep\u001b[0m\u001b[0;34m(\u001b[0m\u001b[0maction\u001b[0m\u001b[0;34m)\u001b[0m\u001b[0;34m\u001b[0m\u001b[0;34m\u001b[0m\u001b[0m\n\u001b[0m\u001b[1;32m     19\u001b[0m         \u001b[0mself\u001b[0m\u001b[0;34m.\u001b[0m\u001b[0m_elapsed_steps\u001b[0m \u001b[0;34m+=\u001b[0m \u001b[0;36m1\u001b[0m\u001b[0;34m\u001b[0m\u001b[0;34m\u001b[0m\u001b[0m\n\u001b[1;32m     20\u001b[0m         \u001b[0;32mif\u001b[0m \u001b[0mself\u001b[0m\u001b[0;34m.\u001b[0m\u001b[0m_elapsed_steps\u001b[0m \u001b[0;34m>=\u001b[0m \u001b[0mself\u001b[0m\u001b[0;34m.\u001b[0m\u001b[0m_max_episode_steps\u001b[0m\u001b[0;34m:\u001b[0m\u001b[0;34m\u001b[0m\u001b[0;34m\u001b[0m\u001b[0m\n",
      "\u001b[0;32m~/.local/lib/python3.8/site-packages/gym/envs/atari/environment.py\u001b[0m in \u001b[0;36mstep\u001b[0;34m(self, action_ind)\u001b[0m\n\u001b[1;32m    221\u001b[0m         \u001b[0mreward\u001b[0m \u001b[0;34m=\u001b[0m \u001b[0;36m0.0\u001b[0m\u001b[0;34m\u001b[0m\u001b[0;34m\u001b[0m\u001b[0m\n\u001b[1;32m    222\u001b[0m         \u001b[0;32mfor\u001b[0m \u001b[0m_\u001b[0m \u001b[0;32min\u001b[0m \u001b[0mrange\u001b[0m\u001b[0;34m(\u001b[0m\u001b[0mframeskip\u001b[0m\u001b[0;34m)\u001b[0m\u001b[0;34m:\u001b[0m\u001b[0;34m\u001b[0m\u001b[0;34m\u001b[0m\u001b[0m\n\u001b[0;32m--> 223\u001b[0;31m             \u001b[0mreward\u001b[0m \u001b[0;34m+=\u001b[0m \u001b[0mself\u001b[0m\u001b[0;34m.\u001b[0m\u001b[0male\u001b[0m\u001b[0;34m.\u001b[0m\u001b[0mact\u001b[0m\u001b[0;34m(\u001b[0m\u001b[0maction\u001b[0m\u001b[0;34m)\u001b[0m\u001b[0;34m\u001b[0m\u001b[0;34m\u001b[0m\u001b[0m\n\u001b[0m\u001b[1;32m    224\u001b[0m \u001b[0;34m\u001b[0m\u001b[0m\n\u001b[1;32m    225\u001b[0m         \u001b[0;31m# Render rgb array\u001b[0m\u001b[0;34m\u001b[0m\u001b[0;34m\u001b[0m\u001b[0;34m\u001b[0m\u001b[0m\n",
      "\u001b[0;31mKeyboardInterrupt\u001b[0m: "
     ]
    }
   ],
   "source": [
    "for i in range(num_batch):\n",
    "    with tqdm(total=batchsize, desc='Iter %d' % i) as pbar:\n",
    "        for i_episode in range(batchsize):\n",
    "            total_return = 0\n",
    "            traj = {'s': [], 'a': [], 's_': [], 'r': [], 'dones': []}\n",
    "            s = env.reset()\n",
    "            done = False\n",
    "            while not done:\n",
    "                # print(s)\n",
    "                a = agent.act(s)\n",
    "                s_, r, done, _ = env.step(a)\n",
    "                traj['s'].append(s)\n",
    "                traj['a'].append(a)\n",
    "                traj['s_'].append(s_)\n",
    "                traj['r'].append(r)\n",
    "                traj['dones'].append(done)\n",
    "                s = s_\n",
    "                total_return = total_return + r\n",
    "            return_list.append(total_return)\n",
    "            # print(len(traj['r']))\n",
    "            agent.upd(traj)\n",
    "            with open(\"pong_data.csv\", \"a\") as f:\n",
    "                f.write(\n",
    "                    \"{},{},{}\\n\".format(\n",
    "                        i*batchsize + i_episode,\n",
    "                        len(traj['dones']),\n",
    "                        total_return\n",
    "                    )\n",
    "                )\n",
    "            if (i_episode+1) % 10 == 0:\n",
    "                pbar.set_postfix({'epis': '%d' % (batchsize * i + i_episode+1), 'mean return': '%.5f' % np.mean(return_list[-10:])})\n",
    "            pbar.update(1)"
   ]
  },
  {
   "cell_type": "code",
   "execution_count": null,
   "metadata": {},
   "outputs": [],
   "source": [
    "episodes_list = list(range(len(return_list)))\n",
    "plt.plot(episodes_list,return_list)\n",
    "plt.xlabel('Episodes')\n",
    "plt.ylabel('Returns')\n",
    "plt.title('A2C on {}'.format(\"Pong-v0\"))\n",
    "plt.show()"
   ]
  }
 ],
 "metadata": {
  "kernelspec": {
   "display_name": "Anaconda3 full",
   "language": "python",
   "name": "anaconda3"
  },
  "language_info": {
   "codemirror_mode": {
    "name": "ipython",
    "version": 3
   },
   "file_extension": ".py",
   "mimetype": "text/x-python",
   "name": "python",
   "nbconvert_exporter": "python",
   "pygments_lexer": "ipython3",
   "version": "3.8.1"
  }
 },
 "nbformat": 4,
 "nbformat_minor": 5
}
